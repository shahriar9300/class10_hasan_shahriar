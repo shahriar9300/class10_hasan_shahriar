{
 "cells": [
  {
   "cell_type": "code",
   "execution_count": 1,
   "id": "45cac533",
   "metadata": {},
   "outputs": [],
   "source": [
    "import pandas as pd\n",
    "import numpy as np\n",
    "from sklearn import *"
   ]
  },
  {
   "cell_type": "code",
   "execution_count": 2,
   "id": "2f3e7dce",
   "metadata": {},
   "outputs": [],
   "source": [
    "df=pd.read_csv('weight-height.csv')"
   ]
  },
  {
   "cell_type": "code",
   "execution_count": 3,
   "id": "955a815d",
   "metadata": {},
   "outputs": [
    {
     "data": {
      "text/html": [
       "<div>\n",
       "<style scoped>\n",
       "    .dataframe tbody tr th:only-of-type {\n",
       "        vertical-align: middle;\n",
       "    }\n",
       "\n",
       "    .dataframe tbody tr th {\n",
       "        vertical-align: top;\n",
       "    }\n",
       "\n",
       "    .dataframe thead th {\n",
       "        text-align: right;\n",
       "    }\n",
       "</style>\n",
       "<table border=\"1\" class=\"dataframe\">\n",
       "  <thead>\n",
       "    <tr style=\"text-align: right;\">\n",
       "      <th></th>\n",
       "      <th>Gender</th>\n",
       "      <th>Height</th>\n",
       "      <th>Weight</th>\n",
       "    </tr>\n",
       "  </thead>\n",
       "  <tbody>\n",
       "    <tr>\n",
       "      <th>0</th>\n",
       "      <td>Male</td>\n",
       "      <td>73.847017</td>\n",
       "      <td>241.893563</td>\n",
       "    </tr>\n",
       "    <tr>\n",
       "      <th>1</th>\n",
       "      <td>Male</td>\n",
       "      <td>68.781904</td>\n",
       "      <td>162.310473</td>\n",
       "    </tr>\n",
       "    <tr>\n",
       "      <th>2</th>\n",
       "      <td>Male</td>\n",
       "      <td>74.110105</td>\n",
       "      <td>212.740856</td>\n",
       "    </tr>\n",
       "    <tr>\n",
       "      <th>3</th>\n",
       "      <td>Male</td>\n",
       "      <td>71.730978</td>\n",
       "      <td>220.042470</td>\n",
       "    </tr>\n",
       "    <tr>\n",
       "      <th>4</th>\n",
       "      <td>Male</td>\n",
       "      <td>69.881796</td>\n",
       "      <td>206.349801</td>\n",
       "    </tr>\n",
       "    <tr>\n",
       "      <th>5</th>\n",
       "      <td>Male</td>\n",
       "      <td>67.253016</td>\n",
       "      <td>152.212156</td>\n",
       "    </tr>\n",
       "    <tr>\n",
       "      <th>6</th>\n",
       "      <td>Male</td>\n",
       "      <td>68.785081</td>\n",
       "      <td>183.927889</td>\n",
       "    </tr>\n",
       "    <tr>\n",
       "      <th>7</th>\n",
       "      <td>Male</td>\n",
       "      <td>68.348516</td>\n",
       "      <td>167.971111</td>\n",
       "    </tr>\n",
       "    <tr>\n",
       "      <th>8</th>\n",
       "      <td>Male</td>\n",
       "      <td>67.018950</td>\n",
       "      <td>175.929440</td>\n",
       "    </tr>\n",
       "    <tr>\n",
       "      <th>9</th>\n",
       "      <td>Male</td>\n",
       "      <td>63.456494</td>\n",
       "      <td>156.399676</td>\n",
       "    </tr>\n",
       "  </tbody>\n",
       "</table>\n",
       "</div>"
      ],
      "text/plain": [
       "  Gender     Height      Weight\n",
       "0   Male  73.847017  241.893563\n",
       "1   Male  68.781904  162.310473\n",
       "2   Male  74.110105  212.740856\n",
       "3   Male  71.730978  220.042470\n",
       "4   Male  69.881796  206.349801\n",
       "5   Male  67.253016  152.212156\n",
       "6   Male  68.785081  183.927889\n",
       "7   Male  68.348516  167.971111\n",
       "8   Male  67.018950  175.929440\n",
       "9   Male  63.456494  156.399676"
      ]
     },
     "execution_count": 3,
     "metadata": {},
     "output_type": "execute_result"
    }
   ],
   "source": [
    "df.head(10)"
   ]
  },
  {
   "cell_type": "code",
   "execution_count": 4,
   "id": "a21332d5",
   "metadata": {},
   "outputs": [
    {
     "data": {
      "text/plain": [
       "(8555, 3)"
      ]
     },
     "execution_count": 4,
     "metadata": {},
     "output_type": "execute_result"
    }
   ],
   "source": [
    "df.shape"
   ]
  },
  {
   "cell_type": "code",
   "execution_count": 5,
   "id": "ff5c92f5",
   "metadata": {},
   "outputs": [
    {
     "data": {
      "text/plain": [
       "Gender    0\n",
       "Height    0\n",
       "Weight    0\n",
       "dtype: int64"
      ]
     },
     "execution_count": 5,
     "metadata": {},
     "output_type": "execute_result"
    }
   ],
   "source": [
    "df.isnull().sum()"
   ]
  },
  {
   "cell_type": "code",
   "execution_count": 6,
   "id": "a8f17ac6",
   "metadata": {},
   "outputs": [],
   "source": [
    "df.Gender=preprocessing.LabelEncoder().fit_transform(df.Gender)"
   ]
  },
  {
   "cell_type": "code",
   "execution_count": 7,
   "id": "43324f8a",
   "metadata": {},
   "outputs": [],
   "source": [
    "df.Height=preprocessing.StandardScaler().fit_transform(df[['Height']])\n",
    "df.Weight=preprocessing.StandardScaler().fit_transform(df[['Weight']])"
   ]
  },
  {
   "cell_type": "code",
   "execution_count": 8,
   "id": "cf652188",
   "metadata": {},
   "outputs": [
    {
     "data": {
      "text/html": [
       "<div>\n",
       "<style scoped>\n",
       "    .dataframe tbody tr th:only-of-type {\n",
       "        vertical-align: middle;\n",
       "    }\n",
       "\n",
       "    .dataframe tbody tr th {\n",
       "        vertical-align: top;\n",
       "    }\n",
       "\n",
       "    .dataframe thead th {\n",
       "        text-align: right;\n",
       "    }\n",
       "</style>\n",
       "<table border=\"1\" class=\"dataframe\">\n",
       "  <thead>\n",
       "    <tr style=\"text-align: right;\">\n",
       "      <th></th>\n",
       "      <th>Gender</th>\n",
       "      <th>Height</th>\n",
       "      <th>Weight</th>\n",
       "    </tr>\n",
       "  </thead>\n",
       "  <tbody>\n",
       "    <tr>\n",
       "      <th>0</th>\n",
       "      <td>1</td>\n",
       "      <td>1.827233</td>\n",
       "      <td>2.380023</td>\n",
       "    </tr>\n",
       "    <tr>\n",
       "      <th>1</th>\n",
       "      <td>1</td>\n",
       "      <td>0.512039</td>\n",
       "      <td>-0.103684</td>\n",
       "    </tr>\n",
       "    <tr>\n",
       "      <th>2</th>\n",
       "      <td>1</td>\n",
       "      <td>1.895545</td>\n",
       "      <td>1.470197</td>\n",
       "    </tr>\n",
       "    <tr>\n",
       "      <th>3</th>\n",
       "      <td>1</td>\n",
       "      <td>1.277788</td>\n",
       "      <td>1.698073</td>\n",
       "    </tr>\n",
       "    <tr>\n",
       "      <th>4</th>\n",
       "      <td>1</td>\n",
       "      <td>0.797634</td>\n",
       "      <td>1.270738</td>\n",
       "    </tr>\n",
       "    <tr>\n",
       "      <th>...</th>\n",
       "      <td>...</td>\n",
       "      <td>...</td>\n",
       "      <td>...</td>\n",
       "    </tr>\n",
       "    <tr>\n",
       "      <th>8550</th>\n",
       "      <td>0</td>\n",
       "      <td>-1.642587</td>\n",
       "      <td>-1.718593</td>\n",
       "    </tr>\n",
       "    <tr>\n",
       "      <th>8551</th>\n",
       "      <td>0</td>\n",
       "      <td>-0.879344</td>\n",
       "      <td>-1.114506</td>\n",
       "    </tr>\n",
       "    <tr>\n",
       "      <th>8552</th>\n",
       "      <td>0</td>\n",
       "      <td>-0.318306</td>\n",
       "      <td>-0.302417</td>\n",
       "    </tr>\n",
       "    <tr>\n",
       "      <th>8553</th>\n",
       "      <td>0</td>\n",
       "      <td>0.161000</td>\n",
       "      <td>-0.435501</td>\n",
       "    </tr>\n",
       "    <tr>\n",
       "      <th>8554</th>\n",
       "      <td>0</td>\n",
       "      <td>-1.528897</td>\n",
       "      <td>-1.072934</td>\n",
       "    </tr>\n",
       "  </tbody>\n",
       "</table>\n",
       "<p>8555 rows × 3 columns</p>\n",
       "</div>"
      ],
      "text/plain": [
       "      Gender    Height    Weight\n",
       "0          1  1.827233  2.380023\n",
       "1          1  0.512039 -0.103684\n",
       "2          1  1.895545  1.470197\n",
       "3          1  1.277788  1.698073\n",
       "4          1  0.797634  1.270738\n",
       "...      ...       ...       ...\n",
       "8550       0 -1.642587 -1.718593\n",
       "8551       0 -0.879344 -1.114506\n",
       "8552       0 -0.318306 -0.302417\n",
       "8553       0  0.161000 -0.435501\n",
       "8554       0 -1.528897 -1.072934\n",
       "\n",
       "[8555 rows x 3 columns]"
      ]
     },
     "execution_count": 8,
     "metadata": {},
     "output_type": "execute_result"
    }
   ],
   "source": [
    "df"
   ]
  },
  {
   "cell_type": "code",
   "execution_count": 9,
   "id": "7111e886",
   "metadata": {},
   "outputs": [],
   "source": [
    "x=df.drop('Weight',axis=1)"
   ]
  },
  {
   "cell_type": "code",
   "execution_count": 10,
   "id": "bb65e014",
   "metadata": {},
   "outputs": [
    {
     "data": {
      "text/html": [
       "<div>\n",
       "<style scoped>\n",
       "    .dataframe tbody tr th:only-of-type {\n",
       "        vertical-align: middle;\n",
       "    }\n",
       "\n",
       "    .dataframe tbody tr th {\n",
       "        vertical-align: top;\n",
       "    }\n",
       "\n",
       "    .dataframe thead th {\n",
       "        text-align: right;\n",
       "    }\n",
       "</style>\n",
       "<table border=\"1\" class=\"dataframe\">\n",
       "  <thead>\n",
       "    <tr style=\"text-align: right;\">\n",
       "      <th></th>\n",
       "      <th>Gender</th>\n",
       "      <th>Height</th>\n",
       "    </tr>\n",
       "  </thead>\n",
       "  <tbody>\n",
       "    <tr>\n",
       "      <th>0</th>\n",
       "      <td>1</td>\n",
       "      <td>1.827233</td>\n",
       "    </tr>\n",
       "    <tr>\n",
       "      <th>1</th>\n",
       "      <td>1</td>\n",
       "      <td>0.512039</td>\n",
       "    </tr>\n",
       "    <tr>\n",
       "      <th>2</th>\n",
       "      <td>1</td>\n",
       "      <td>1.895545</td>\n",
       "    </tr>\n",
       "    <tr>\n",
       "      <th>3</th>\n",
       "      <td>1</td>\n",
       "      <td>1.277788</td>\n",
       "    </tr>\n",
       "    <tr>\n",
       "      <th>4</th>\n",
       "      <td>1</td>\n",
       "      <td>0.797634</td>\n",
       "    </tr>\n",
       "    <tr>\n",
       "      <th>...</th>\n",
       "      <td>...</td>\n",
       "      <td>...</td>\n",
       "    </tr>\n",
       "    <tr>\n",
       "      <th>8550</th>\n",
       "      <td>0</td>\n",
       "      <td>-1.642587</td>\n",
       "    </tr>\n",
       "    <tr>\n",
       "      <th>8551</th>\n",
       "      <td>0</td>\n",
       "      <td>-0.879344</td>\n",
       "    </tr>\n",
       "    <tr>\n",
       "      <th>8552</th>\n",
       "      <td>0</td>\n",
       "      <td>-0.318306</td>\n",
       "    </tr>\n",
       "    <tr>\n",
       "      <th>8553</th>\n",
       "      <td>0</td>\n",
       "      <td>0.161000</td>\n",
       "    </tr>\n",
       "    <tr>\n",
       "      <th>8554</th>\n",
       "      <td>0</td>\n",
       "      <td>-1.528897</td>\n",
       "    </tr>\n",
       "  </tbody>\n",
       "</table>\n",
       "<p>8555 rows × 2 columns</p>\n",
       "</div>"
      ],
      "text/plain": [
       "      Gender    Height\n",
       "0          1  1.827233\n",
       "1          1  0.512039\n",
       "2          1  1.895545\n",
       "3          1  1.277788\n",
       "4          1  0.797634\n",
       "...      ...       ...\n",
       "8550       0 -1.642587\n",
       "8551       0 -0.879344\n",
       "8552       0 -0.318306\n",
       "8553       0  0.161000\n",
       "8554       0 -1.528897\n",
       "\n",
       "[8555 rows x 2 columns]"
      ]
     },
     "execution_count": 10,
     "metadata": {},
     "output_type": "execute_result"
    }
   ],
   "source": [
    "x"
   ]
  },
  {
   "cell_type": "code",
   "execution_count": 11,
   "id": "794a249f",
   "metadata": {},
   "outputs": [],
   "source": [
    "y=df['Weight']"
   ]
  },
  {
   "cell_type": "code",
   "execution_count": 12,
   "id": "61ef13ae",
   "metadata": {},
   "outputs": [
    {
     "data": {
      "text/plain": [
       "0       2.380023\n",
       "1      -0.103684\n",
       "2       1.470197\n",
       "3       1.698073\n",
       "4       1.270738\n",
       "          ...   \n",
       "8550   -1.718593\n",
       "8551   -1.114506\n",
       "8552   -0.302417\n",
       "8553   -0.435501\n",
       "8554   -1.072934\n",
       "Name: Weight, Length: 8555, dtype: float64"
      ]
     },
     "execution_count": 12,
     "metadata": {},
     "output_type": "execute_result"
    }
   ],
   "source": [
    "y"
   ]
  },
  {
   "cell_type": "code",
   "execution_count": 13,
   "id": "0cc9528c",
   "metadata": {},
   "outputs": [],
   "source": [
    "xtrain,xtest,ytrain,ytest=model_selection.train_test_split(x,y,test_size=.30,random_state=1)"
   ]
  },
  {
   "cell_type": "code",
   "execution_count": 14,
   "id": "21787117",
   "metadata": {},
   "outputs": [
    {
     "data": {
      "text/html": [
       "<div>\n",
       "<style scoped>\n",
       "    .dataframe tbody tr th:only-of-type {\n",
       "        vertical-align: middle;\n",
       "    }\n",
       "\n",
       "    .dataframe tbody tr th {\n",
       "        vertical-align: top;\n",
       "    }\n",
       "\n",
       "    .dataframe thead th {\n",
       "        text-align: right;\n",
       "    }\n",
       "</style>\n",
       "<table border=\"1\" class=\"dataframe\">\n",
       "  <thead>\n",
       "    <tr style=\"text-align: right;\">\n",
       "      <th></th>\n",
       "      <th>Gender</th>\n",
       "      <th>Height</th>\n",
       "    </tr>\n",
       "  </thead>\n",
       "  <tbody>\n",
       "    <tr>\n",
       "      <th>7154</th>\n",
       "      <td>0</td>\n",
       "      <td>-0.452294</td>\n",
       "    </tr>\n",
       "    <tr>\n",
       "      <th>3258</th>\n",
       "      <td>1</td>\n",
       "      <td>1.042451</td>\n",
       "    </tr>\n",
       "    <tr>\n",
       "      <th>2188</th>\n",
       "      <td>1</td>\n",
       "      <td>0.481319</td>\n",
       "    </tr>\n",
       "    <tr>\n",
       "      <th>5609</th>\n",
       "      <td>0</td>\n",
       "      <td>-0.213520</td>\n",
       "    </tr>\n",
       "    <tr>\n",
       "      <th>3186</th>\n",
       "      <td>1</td>\n",
       "      <td>1.062397</td>\n",
       "    </tr>\n",
       "    <tr>\n",
       "      <th>...</th>\n",
       "      <td>...</td>\n",
       "      <td>...</td>\n",
       "    </tr>\n",
       "    <tr>\n",
       "      <th>8004</th>\n",
       "      <td>0</td>\n",
       "      <td>-2.037375</td>\n",
       "    </tr>\n",
       "    <tr>\n",
       "      <th>7644</th>\n",
       "      <td>0</td>\n",
       "      <td>-0.050996</td>\n",
       "    </tr>\n",
       "    <tr>\n",
       "      <th>8521</th>\n",
       "      <td>0</td>\n",
       "      <td>0.281919</td>\n",
       "    </tr>\n",
       "    <tr>\n",
       "      <th>957</th>\n",
       "      <td>1</td>\n",
       "      <td>0.576735</td>\n",
       "    </tr>\n",
       "    <tr>\n",
       "      <th>233</th>\n",
       "      <td>1</td>\n",
       "      <td>1.211607</td>\n",
       "    </tr>\n",
       "  </tbody>\n",
       "</table>\n",
       "<p>2567 rows × 2 columns</p>\n",
       "</div>"
      ],
      "text/plain": [
       "      Gender    Height\n",
       "7154       0 -0.452294\n",
       "3258       1  1.042451\n",
       "2188       1  0.481319\n",
       "5609       0 -0.213520\n",
       "3186       1  1.062397\n",
       "...      ...       ...\n",
       "8004       0 -2.037375\n",
       "7644       0 -0.050996\n",
       "8521       0  0.281919\n",
       "957        1  0.576735\n",
       "233        1  1.211607\n",
       "\n",
       "[2567 rows x 2 columns]"
      ]
     },
     "execution_count": 14,
     "metadata": {},
     "output_type": "execute_result"
    }
   ],
   "source": [
    "xtest"
   ]
  },
  {
   "cell_type": "code",
   "execution_count": 15,
   "id": "986cfc12",
   "metadata": {},
   "outputs": [
    {
     "data": {
      "text/plain": [
       "7154   -0.150802\n",
       "3258    0.589349\n",
       "2188    0.581425\n",
       "5609    0.037806\n",
       "3186    1.087120\n",
       "          ...   \n",
       "8004   -1.710793\n",
       "7644   -0.531410\n",
       "8521   -0.380633\n",
       "957     0.145977\n",
       "233     0.928776\n",
       "Name: Weight, Length: 2567, dtype: float64"
      ]
     },
     "execution_count": 15,
     "metadata": {},
     "output_type": "execute_result"
    }
   ],
   "source": [
    "ytest"
   ]
  },
  {
   "cell_type": "code",
   "execution_count": 16,
   "id": "4c46beed",
   "metadata": {},
   "outputs": [],
   "source": [
    "regress=linear_model.LinearRegression()"
   ]
  },
  {
   "cell_type": "code",
   "execution_count": 17,
   "id": "263d1bc6",
   "metadata": {},
   "outputs": [
    {
     "data": {
      "text/plain": [
       "LinearRegression()"
      ]
     },
     "execution_count": 17,
     "metadata": {},
     "output_type": "execute_result"
    }
   ],
   "source": [
    "regress.fit(xtrain,ytrain)"
   ]
  },
  {
   "cell_type": "code",
   "execution_count": 18,
   "id": "3658ba5d",
   "metadata": {},
   "outputs": [
    {
     "data": {
      "text/plain": [
       "array([-0.68043716,  0.99561187,  0.59304621, ..., -0.15370062,\n",
       "        0.66149925,  1.11696722])"
      ]
     },
     "execution_count": 18,
     "metadata": {},
     "output_type": "execute_result"
    }
   ],
   "source": [
    "predict_res=regress.predict(xtest)\n",
    "predict_res"
   ]
  },
  {
   "cell_type": "markdown",
   "id": "85c0d940",
   "metadata": {},
   "source": [
    "# linear Accuracy"
   ]
  },
  {
   "cell_type": "code",
   "execution_count": 19,
   "id": "36d78cad",
   "metadata": {},
   "outputs": [
    {
     "data": {
      "text/plain": [
       "0.9059959607091161"
      ]
     },
     "execution_count": 19,
     "metadata": {},
     "output_type": "execute_result"
    }
   ],
   "source": [
    "metrics.r2_score(ytest,predict_res)"
   ]
  },
  {
   "cell_type": "markdown",
   "id": "db30b2bb",
   "metadata": {},
   "source": [
    "# linear MSE"
   ]
  },
  {
   "cell_type": "code",
   "execution_count": 20,
   "id": "38cdead7",
   "metadata": {},
   "outputs": [
    {
     "data": {
      "text/plain": [
       "0.09708113053084727"
      ]
     },
     "execution_count": 20,
     "metadata": {},
     "output_type": "execute_result"
    }
   ],
   "source": [
    "metrics.mean_squared_error(ytest,predict_res)"
   ]
  },
  {
   "cell_type": "markdown",
   "id": "af1150eb",
   "metadata": {},
   "source": [
    "# linear Prediction score"
   ]
  },
  {
   "cell_type": "code",
   "execution_count": 21,
   "id": "75226364",
   "metadata": {},
   "outputs": [
    {
     "data": {
      "text/plain": [
       "0.9059959607091161"
      ]
     },
     "execution_count": 21,
     "metadata": {},
     "output_type": "execute_result"
    }
   ],
   "source": [
    "regress.score(xtest,ytest)"
   ]
  },
  {
   "cell_type": "markdown",
   "id": "6b9702df",
   "metadata": {},
   "source": [
    "# KNN Regressor"
   ]
  },
  {
   "cell_type": "code",
   "execution_count": 22,
   "id": "3a9dcefa",
   "metadata": {},
   "outputs": [],
   "source": [
    "neigh = neighbors.KNeighborsRegressor()"
   ]
  },
  {
   "cell_type": "code",
   "execution_count": 23,
   "id": "01e3aef6",
   "metadata": {},
   "outputs": [
    {
     "data": {
      "text/plain": [
       "KNeighborsRegressor()"
      ]
     },
     "execution_count": 23,
     "metadata": {},
     "output_type": "execute_result"
    }
   ],
   "source": [
    "neigh.fit(xtrain,ytrain)"
   ]
  },
  {
   "cell_type": "code",
   "execution_count": 24,
   "id": "3ceacb1b",
   "metadata": {},
   "outputs": [
    {
     "data": {
      "text/plain": [
       "array([-0.48238561,  0.99338323,  0.41827163, ..., -0.16760663,\n",
       "        0.46881764,  1.09018559])"
      ]
     },
     "execution_count": 24,
     "metadata": {},
     "output_type": "execute_result"
    }
   ],
   "source": [
    "predict_neig=neigh.predict(xtest)\n",
    "predict_neig"
   ]
  },
  {
   "cell_type": "markdown",
   "id": "63387680",
   "metadata": {},
   "source": [
    "# KNN Accuracy"
   ]
  },
  {
   "cell_type": "code",
   "execution_count": 25,
   "id": "bbd42975",
   "metadata": {},
   "outputs": [
    {
     "data": {
      "text/plain": [
       "0.8838502073708883"
      ]
     },
     "execution_count": 25,
     "metadata": {},
     "output_type": "execute_result"
    }
   ],
   "source": [
    "metrics.r2_score(ytest,predict_neig)"
   ]
  },
  {
   "cell_type": "markdown",
   "id": "76c256da",
   "metadata": {},
   "source": [
    "# KNN MSE"
   ]
  },
  {
   "cell_type": "code",
   "execution_count": 26,
   "id": "b65a24c1",
   "metadata": {},
   "outputs": [
    {
     "data": {
      "text/plain": [
       "0.11995179424647479"
      ]
     },
     "execution_count": 26,
     "metadata": {},
     "output_type": "execute_result"
    }
   ],
   "source": [
    "metrics.mean_squared_error(ytest,predict_neig)"
   ]
  },
  {
   "cell_type": "markdown",
   "id": "96806192",
   "metadata": {},
   "source": [
    "# KNN predict score"
   ]
  },
  {
   "cell_type": "code",
   "execution_count": 27,
   "id": "6a8f46f2",
   "metadata": {},
   "outputs": [
    {
     "data": {
      "text/plain": [
       "0.8838502073708883"
      ]
     },
     "execution_count": 27,
     "metadata": {},
     "output_type": "execute_result"
    }
   ],
   "source": [
    "neigh.score(xtest,ytest)"
   ]
  },
  {
   "cell_type": "markdown",
   "id": "01885649",
   "metadata": {},
   "source": [
    "# Tuning:KNN Regressor"
   ]
  },
  {
   "cell_type": "code",
   "execution_count": 28,
   "id": "c1f7eb44",
   "metadata": {},
   "outputs": [],
   "source": [
    "n_neighbors=np.random.randint(5,100,50)\n",
    "weights=['uniform','distance']\n",
    "\n",
    "\n",
    "parameters={\n",
    "    'n_neighbors': n_neighbors, \n",
    "    'weights': weights\n",
    "}"
   ]
  },
  {
   "cell_type": "code",
   "execution_count": 29,
   "id": "cd7c7c89",
   "metadata": {},
   "outputs": [],
   "source": [
    "knn_fit=neigh.fit(xtrain,ytrain)\n",
    "tune_knn=model_selection.RandomizedSearchCV(knn_fit,parameters,cv=3)"
   ]
  },
  {
   "cell_type": "code",
   "execution_count": 30,
   "id": "d15c9755",
   "metadata": {},
   "outputs": [
    {
     "data": {
      "text/plain": [
       "RandomizedSearchCV(cv=3, estimator=KNeighborsRegressor(),\n",
       "                   param_distributions={'n_neighbors': array([43, 57, 32, 73, 41, 84, 25, 80, 57, 25, 80, 83, 55, 74, 81, 44, 28,\n",
       "       58, 25, 29, 72, 51, 73, 56, 81, 59, 72,  5, 30, 17, 29, 83, 74, 42,\n",
       "       30, 40, 42, 10, 68, 30, 83, 85, 86, 84, 31, 55, 62, 76, 26, 99]),\n",
       "                                        'weights': ['uniform', 'distance']})"
      ]
     },
     "execution_count": 30,
     "metadata": {},
     "output_type": "execute_result"
    }
   ],
   "source": [
    "tune_knn.fit(xtrain,ytrain)"
   ]
  },
  {
   "cell_type": "code",
   "execution_count": 31,
   "id": "56ebfc81",
   "metadata": {},
   "outputs": [],
   "source": [
    "new_fit=tune_knn.best_estimator_"
   ]
  },
  {
   "cell_type": "code",
   "execution_count": 32,
   "id": "fb51e73f",
   "metadata": {},
   "outputs": [
    {
     "data": {
      "text/plain": [
       "KNeighborsRegressor(n_neighbors=43)"
      ]
     },
     "execution_count": 32,
     "metadata": {},
     "output_type": "execute_result"
    }
   ],
   "source": [
    "new_fit.fit(xtrain,ytrain)"
   ]
  },
  {
   "cell_type": "code",
   "execution_count": 33,
   "id": "830cfa94",
   "metadata": {},
   "outputs": [],
   "source": [
    "predict_tun=new_fit.predict(xtest)"
   ]
  },
  {
   "cell_type": "markdown",
   "id": "e2d4ff98",
   "metadata": {},
   "source": [
    "# tune Accuracy score"
   ]
  },
  {
   "cell_type": "code",
   "execution_count": 34,
   "id": "aabd09cf",
   "metadata": {},
   "outputs": [
    {
     "data": {
      "text/plain": [
       "0.9037514757394804"
      ]
     },
     "execution_count": 34,
     "metadata": {},
     "output_type": "execute_result"
    }
   ],
   "source": [
    "metrics.r2_score(ytest,predict_tun)"
   ]
  },
  {
   "cell_type": "markdown",
   "id": "4895814e",
   "metadata": {},
   "source": [
    "# tune MSE score"
   ]
  },
  {
   "cell_type": "code",
   "execution_count": 35,
   "id": "52c6d7e3",
   "metadata": {},
   "outputs": [
    {
     "data": {
      "text/plain": [
       "0.0993990855884748"
      ]
     },
     "execution_count": 35,
     "metadata": {},
     "output_type": "execute_result"
    }
   ],
   "source": [
    "metrics.mean_squared_error(ytest,predict_tun)"
   ]
  },
  {
   "cell_type": "markdown",
   "id": "1190be42",
   "metadata": {},
   "source": [
    "# tune Prediction score"
   ]
  },
  {
   "cell_type": "code",
   "execution_count": 36,
   "id": "70d57047",
   "metadata": {},
   "outputs": [
    {
     "data": {
      "text/plain": [
       "0.9037514757394804"
      ]
     },
     "execution_count": 36,
     "metadata": {},
     "output_type": "execute_result"
    }
   ],
   "source": [
    "new_fit.score(xtest,ytest)"
   ]
  },
  {
   "cell_type": "markdown",
   "id": "b959d540",
   "metadata": {},
   "source": [
    "# KNN Classifier"
   ]
  },
  {
   "cell_type": "code",
   "execution_count": 67,
   "id": "88e5e4bc",
   "metadata": {},
   "outputs": [],
   "source": [
    "dff=pd.read_csv('weight-height.csv')"
   ]
  },
  {
   "cell_type": "code",
   "execution_count": 69,
   "id": "eaf669e3",
   "metadata": {
    "scrolled": true
   },
   "outputs": [
    {
     "data": {
      "text/html": [
       "<div>\n",
       "<style scoped>\n",
       "    .dataframe tbody tr th:only-of-type {\n",
       "        vertical-align: middle;\n",
       "    }\n",
       "\n",
       "    .dataframe tbody tr th {\n",
       "        vertical-align: top;\n",
       "    }\n",
       "\n",
       "    .dataframe thead th {\n",
       "        text-align: right;\n",
       "    }\n",
       "</style>\n",
       "<table border=\"1\" class=\"dataframe\">\n",
       "  <thead>\n",
       "    <tr style=\"text-align: right;\">\n",
       "      <th></th>\n",
       "      <th>Gender</th>\n",
       "      <th>Height</th>\n",
       "      <th>Weight</th>\n",
       "    </tr>\n",
       "  </thead>\n",
       "  <tbody>\n",
       "    <tr>\n",
       "      <th>0</th>\n",
       "      <td>Male</td>\n",
       "      <td>73.847017</td>\n",
       "      <td>241.893563</td>\n",
       "    </tr>\n",
       "    <tr>\n",
       "      <th>1</th>\n",
       "      <td>Male</td>\n",
       "      <td>68.781904</td>\n",
       "      <td>162.310473</td>\n",
       "    </tr>\n",
       "    <tr>\n",
       "      <th>2</th>\n",
       "      <td>Male</td>\n",
       "      <td>74.110105</td>\n",
       "      <td>212.740856</td>\n",
       "    </tr>\n",
       "    <tr>\n",
       "      <th>3</th>\n",
       "      <td>Male</td>\n",
       "      <td>71.730978</td>\n",
       "      <td>220.042470</td>\n",
       "    </tr>\n",
       "    <tr>\n",
       "      <th>4</th>\n",
       "      <td>Male</td>\n",
       "      <td>69.881796</td>\n",
       "      <td>206.349801</td>\n",
       "    </tr>\n",
       "  </tbody>\n",
       "</table>\n",
       "</div>"
      ],
      "text/plain": [
       "  Gender     Height      Weight\n",
       "0   Male  73.847017  241.893563\n",
       "1   Male  68.781904  162.310473\n",
       "2   Male  74.110105  212.740856\n",
       "3   Male  71.730978  220.042470\n",
       "4   Male  69.881796  206.349801"
      ]
     },
     "execution_count": 69,
     "metadata": {},
     "output_type": "execute_result"
    }
   ],
   "source": [
    "dff.head()"
   ]
  },
  {
   "cell_type": "code",
   "execution_count": 70,
   "id": "7f1bc321",
   "metadata": {},
   "outputs": [],
   "source": [
    "dff.Gender=preprocessing.LabelEncoder().fit_transform(df.Gender)"
   ]
  },
  {
   "cell_type": "code",
   "execution_count": 88,
   "id": "8953654f",
   "metadata": {},
   "outputs": [],
   "source": [
    "x=dff.drop('Gender',axis=1)"
   ]
  },
  {
   "cell_type": "code",
   "execution_count": 89,
   "id": "0c812d8a",
   "metadata": {},
   "outputs": [],
   "source": [
    "y=dff['Gender']"
   ]
  },
  {
   "cell_type": "code",
   "execution_count": 90,
   "id": "a3139132",
   "metadata": {},
   "outputs": [],
   "source": [
    "xtrain,xtest,ytrain,ytest=model_selection.train_test_split(x,y,test_size=.30,random_state=1)"
   ]
  },
  {
   "cell_type": "code",
   "execution_count": 91,
   "id": "436c604b",
   "metadata": {},
   "outputs": [],
   "source": [
    "kne_class=neighbors.KNeighborsClassifier()"
   ]
  },
  {
   "cell_type": "code",
   "execution_count": 92,
   "id": "35fc17d4",
   "metadata": {},
   "outputs": [
    {
     "data": {
      "text/plain": [
       "KNeighborsClassifier()"
      ]
     },
     "execution_count": 92,
     "metadata": {},
     "output_type": "execute_result"
    }
   ],
   "source": [
    "kne_class.fit(xtrain,ytrain)"
   ]
  },
  {
   "cell_type": "code",
   "execution_count": 105,
   "id": "22846f2b",
   "metadata": {},
   "outputs": [
    {
     "data": {
      "text/plain": [
       "array([1, 1, 1, ..., 0, 1, 1], dtype=int64)"
      ]
     },
     "execution_count": 105,
     "metadata": {},
     "output_type": "execute_result"
    }
   ],
   "source": [
    "pre_res=kne_class.predict(xtest)\n",
    "pre_res"
   ]
  },
  {
   "cell_type": "code",
   "execution_count": 106,
   "id": "c73eb244",
   "metadata": {},
   "outputs": [],
   "source": [
    "#tn,fp,fn,tp=metrics.confusion_matrix(ytest,pre_res).ravel()\n",
    "#result_sc=metrics.confusion_matrix(ytest,pre_res)"
   ]
  },
  {
   "cell_type": "markdown",
   "id": "13ee42c2",
   "metadata": {},
   "source": [
    "# KNN accuracy"
   ]
  },
  {
   "cell_type": "code",
   "execution_count": 104,
   "id": "826f572d",
   "metadata": {},
   "outputs": [
    {
     "data": {
      "text/plain": [
       "0.9146864043630697"
      ]
     },
     "execution_count": 104,
     "metadata": {},
     "output_type": "execute_result"
    }
   ],
   "source": [
    "metrics.accuracy_score(ytest,pre_res)"
   ]
  },
  {
   "cell_type": "markdown",
   "id": "4453c76c",
   "metadata": {},
   "source": [
    "# KNN Confusion Matrix"
   ]
  },
  {
   "cell_type": "code",
   "execution_count": 108,
   "id": "5e214488",
   "metadata": {},
   "outputs": [
    {
     "data": {
      "text/plain": [
       "array([[ 938,  117],\n",
       "       [ 102, 1410]], dtype=int64)"
      ]
     },
     "execution_count": 108,
     "metadata": {},
     "output_type": "execute_result"
    }
   ],
   "source": [
    "metrics.confusion_matrix(ytest,pre_res)"
   ]
  },
  {
   "cell_type": "markdown",
   "id": "04204e19",
   "metadata": {},
   "source": [
    "# KNN ROC"
   ]
  },
  {
   "cell_type": "code",
   "execution_count": 107,
   "id": "793e000d",
   "metadata": {
    "scrolled": true
   },
   "outputs": [
    {
     "data": {
      "text/plain": [
       "0.9108196043030166"
      ]
     },
     "execution_count": 107,
     "metadata": {},
     "output_type": "execute_result"
    }
   ],
   "source": [
    "metrics.roc_auc_score(ytest,pre_res)"
   ]
  },
  {
   "cell_type": "markdown",
   "id": "b75d0535",
   "metadata": {},
   "source": [
    "# KNN Classification Report"
   ]
  },
  {
   "cell_type": "code",
   "execution_count": 113,
   "id": "3b000874",
   "metadata": {},
   "outputs": [
    {
     "data": {
      "text/plain": [
       "'              precision    recall  f1-score   support\\n\\n           0       0.90      0.89      0.90      1055\\n           1       0.92      0.93      0.93      1512\\n\\n    accuracy                           0.91      2567\\n   macro avg       0.91      0.91      0.91      2567\\nweighted avg       0.91      0.91      0.91      2567\\n'"
      ]
     },
     "execution_count": 113,
     "metadata": {},
     "output_type": "execute_result"
    }
   ],
   "source": [
    "metrics.classification_report(ytest,pre_res)"
   ]
  },
  {
   "cell_type": "code",
   "execution_count": 115,
   "id": "9905f361",
   "metadata": {},
   "outputs": [],
   "source": [
    "n_neighbors=np.random.randint(5,100,50)\n",
    "weights=['uniform','distance']\n",
    "\n",
    "\n",
    "parameters1={\n",
    "    'n_neighbors': n_neighbors, \n",
    "    'weights': weights\n",
    "}"
   ]
  },
  {
   "cell_type": "code",
   "execution_count": 122,
   "id": "ddba5ae6",
   "metadata": {},
   "outputs": [],
   "source": [
    "knn_fit1=neigh.fit(xtrain1,ytrain1)\n",
    "tune_knn1=model_selection.RandomizedSearchCV(knn_fit1,parameters1,cv=3)"
   ]
  },
  {
   "cell_type": "code",
   "execution_count": 123,
   "id": "f0a9c64f",
   "metadata": {},
   "outputs": [
    {
     "data": {
      "text/plain": [
       "RandomizedSearchCV(cv=3, estimator=KNeighborsRegressor(),\n",
       "                   param_distributions={'n_neighbors': array([73, 47, 20, 99, 26, 23, 36, 66,  8, 80, 42, 86, 45, 83,  8, 46, 20,\n",
       "        5, 62, 66, 71, 21, 37, 82, 98, 66,  5, 45, 14, 75, 90, 67,  8, 78,\n",
       "       35, 70, 93, 71, 75, 32, 58, 73, 59, 43, 98, 78, 24, 14, 61, 99]),\n",
       "                                        'weights': ['uniform', 'distance']})"
      ]
     },
     "execution_count": 123,
     "metadata": {},
     "output_type": "execute_result"
    }
   ],
   "source": [
    "tune_knn1.fit(xtrain1,ytrain1)"
   ]
  },
  {
   "cell_type": "code",
   "execution_count": 124,
   "id": "09839243",
   "metadata": {},
   "outputs": [],
   "source": [
    "new_fit1=tune_knn1.best_estimator_"
   ]
  },
  {
   "cell_type": "code",
   "execution_count": 125,
   "id": "e9ae872d",
   "metadata": {
    "scrolled": true
   },
   "outputs": [
    {
     "data": {
      "text/plain": [
       "KNeighborsRegressor(n_neighbors=71)"
      ]
     },
     "execution_count": 125,
     "metadata": {},
     "output_type": "execute_result"
    }
   ],
   "source": [
    "new_fit1.fit(xtrain1,ytrain1)"
   ]
  },
  {
   "cell_type": "code",
   "execution_count": 126,
   "id": "dfc58730",
   "metadata": {},
   "outputs": [],
   "source": [
    "predict_tun1=new_fit1.predict(xtest1)"
   ]
  },
  {
   "cell_type": "markdown",
   "id": "6d015b90",
   "metadata": {},
   "source": [
    "# tun KNN Accuracy"
   ]
  },
  {
   "cell_type": "code",
   "execution_count": 138,
   "id": "3d5cb9e5",
   "metadata": {},
   "outputs": [
    {
     "data": {
      "text/plain": [
       "0.7566914667663175"
      ]
     },
     "execution_count": 138,
     "metadata": {},
     "output_type": "execute_result"
    }
   ],
   "source": [
    "metrics.r2_score(ytest1,predict_tun1)"
   ]
  },
  {
   "cell_type": "markdown",
   "id": "ef36da9f",
   "metadata": {},
   "source": [
    "# tun KNN Confusion Matrix"
   ]
  },
  {
   "cell_type": "code",
   "execution_count": 140,
   "id": "2f770579",
   "metadata": {},
   "outputs": [
    {
     "data": {
      "text/plain": [
       "array([[0.89952607, 0.10047393],\n",
       "       [0.06547619, 0.93452381]])"
      ]
     },
     "execution_count": 140,
     "metadata": {},
     "output_type": "execute_result"
    }
   ],
   "source": [
    "metrics.confusion_matrix(ytest1,predict_tun1.round(),normalize='true')"
   ]
  },
  {
   "cell_type": "markdown",
   "id": "214b90ed",
   "metadata": {},
   "source": [
    "# tun KNN ROI Matrix"
   ]
  },
  {
   "cell_type": "code",
   "execution_count": 141,
   "id": "0708cf12",
   "metadata": {},
   "outputs": [
    {
     "data": {
      "text/plain": [
       "0.9754115574613206"
      ]
     },
     "execution_count": 141,
     "metadata": {},
     "output_type": "execute_result"
    }
   ],
   "source": [
    "metrics.roc_auc_score(ytest1,predict_tun1)"
   ]
  },
  {
   "cell_type": "markdown",
   "id": "31c2bd55",
   "metadata": {},
   "source": [
    "# tun KNN Classification Report"
   ]
  },
  {
   "cell_type": "code",
   "execution_count": 144,
   "id": "fb3518bb",
   "metadata": {},
   "outputs": [
    {
     "data": {
      "text/plain": [
       "'              precision    recall  f1-score   support\\n\\n           0       0.91      0.90      0.90      1055\\n           1       0.93      0.93      0.93      1512\\n\\n    accuracy                           0.92      2567\\n   macro avg       0.92      0.92      0.92      2567\\nweighted avg       0.92      0.92      0.92      2567\\n'"
      ]
     },
     "execution_count": 144,
     "metadata": {},
     "output_type": "execute_result"
    }
   ],
   "source": [
    "metrics.classification_report(ytest1,predict_tun1.round())"
   ]
  }
 ],
 "metadata": {
  "kernelspec": {
   "display_name": "Python 3 (ipykernel)",
   "language": "python",
   "name": "python3"
  },
  "language_info": {
   "codemirror_mode": {
    "name": "ipython",
    "version": 3
   },
   "file_extension": ".py",
   "mimetype": "text/x-python",
   "name": "python",
   "nbconvert_exporter": "python",
   "pygments_lexer": "ipython3",
   "version": "3.9.7"
  }
 },
 "nbformat": 4,
 "nbformat_minor": 5
}
